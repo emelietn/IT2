{
 "cells": [
  {
   "cell_type": "markdown",
   "metadata": {},
   "source": [
    "## Oppgave 3\n",
    "\n",
    "Listen `biler` inneholder informasjon om de 10 mest solgte bilene i Norge i 2023.\n",
    "\n",
    "> OBS! Kjør kodeblokken under før du begynner å programmere!\n",
    "\n",
    "1. Bruk listen og lag en fin utskrift med informasjon om Tesla Model Y\n",
    "2. Bruk listen og lag en fin utskrift med informasjon om alle bilene på topplisten\n",
    "3. Av bilene som er på topplisten hvor mange solgte biler er av merke Toyota?\n",
    "4. Lag en ordbok som teller antall solgte biler for hvert bilmerke på topplisten\n",
    "5. Tegn et stolpediagram som viser antall solgte biler på topplisten gruppert etter bilmerke"
   ]
  },
  {
   "cell_type": "code",
   "execution_count": 11,
   "metadata": {},
   "outputs": [],
   "source": [
    "biler =  [\n",
    "    {\"bilmerke\": \"Tesla\", \"modell\": \"Model Y\", \"land\": \"USA\", \"antall_solgte\": 23088, \"andel_solgte\": 18.2},\n",
    "    {\"bilmerke\": \"Volkswagen\", \"modell\": \"ID.4\", \"land\": \"Tyskland\", \"antall_solgte\": 6614, \"andel_solgte\": 5.2},\n",
    "    {\"bilmerke\": \"Skoda\", \"modell\": \"Enyaq\", \"land\": \"Tsjekkia\", \"antall_solgte\": 5740, \"andel_solgte\": 4.5},\n",
    "    {\"bilmerke\": \"Toyota\", \"modell\": \"bZ4X\", \"land\": \"Japan\", \"antall_solgte\": 5395, \"andel_solgte\": 4.2},\n",
    "    {\"bilmerke\": \"Volvo\", \"modell\": \"XC40\", \"land\": \"Sverige\", \"antall_solgte\": 5025, \"andel_solgte\": 4.0},\n",
    "    {\"bilmerke\": \"Ford\", \"modell\": \"Mustang Mach-E\", \"land\": \"USA\", \"antall_solgte\": 3792, \"andel_solgte\": 3.0},\n",
    "    {\"bilmerke\": \"Toyota\", \"modell\": \"Yaris\", \"land\": \"Japan\", \"antall_solgte\": 3582, \"andel_solgte\": 2.8},\n",
    "    {\"bilmerke\": \"Toyota\", \"modell\": \"RAV4\", \"land\": \"Japan\", \"antall_solgte\": 3457, \"andel_solgte\": 2.7},\n",
    "    {\"bilmerke\": \"Volkswagen\", \"modell\": \"ID.3\", \"land\": \"Tyskland\", \"antall_solgte\": 3141, \"andel_solgte\": 2.5}\n",
    "]\n",
    "# Kjør denne kodeblokken før du begynner! (shift + enter) / (Trykk på play)"
   ]
  },
  {
   "cell_type": "code",
   "execution_count": 2,
   "metadata": {},
   "outputs": [],
   "source": [
    "# 1. Bruk ordboken og lag en fin utskrift med informasjon om Tesla Model Y\n"
   ]
  },
  {
   "cell_type": "code",
   "execution_count": 1,
   "metadata": {},
   "outputs": [],
   "source": [
    "# 2. Bruk listen og lag en fin utskrift med informasjon om alle bilene på topplisten\n"
   ]
  },
  {
   "cell_type": "code",
   "execution_count": 3,
   "metadata": {},
   "outputs": [],
   "source": [
    "# 3. Av bilene som er på topplisten hvor mange solgte biler var av merke Toyota?\n"
   ]
  },
  {
   "cell_type": "code",
   "execution_count": 4,
   "metadata": {},
   "outputs": [],
   "source": [
    "# 4. Lag en ordbok som teller antall solgte biler for hvert bilmerke på topplisten\n"
   ]
  },
  {
   "cell_type": "code",
   "execution_count": 5,
   "metadata": {},
   "outputs": [],
   "source": [
    "# 5. Tegn et stolpediagram som viser antall solgte biler på topplisten gruppert etter bilmerke\n"
   ]
  },
  {
   "cell_type": "markdown",
   "metadata": {},
   "source": [
    "## Oppgave 4\n",
    "\n",
    "1. Åpne filen oscar2024.json med python, og print ordboken til \"Actor in a Leading Role\" (den første prisen)\n",
    "2. Print alle de nominerte filmene\n",
    "3. Hvor mange nominasjoner har filmen \"Barbie\"\n",
    "4. Hvilken film har flest nominasjoner, hvor mange har den?\n",
    "5. Lag en oversikt som presenterer de ti filmene med flest nominasjoner og antall nominasjoner"
   ]
  },
  {
   "cell_type": "code",
   "execution_count": 6,
   "metadata": {},
   "outputs": [],
   "source": [
    "# 1. Åpne filen oscar2024.json med python og print ordboken til \"Actor in a Leading Role\"\n"
   ]
  },
  {
   "cell_type": "code",
   "execution_count": 7,
   "metadata": {},
   "outputs": [],
   "source": [
    "# 2. Print alle filmene de nominerte filmene\n",
    "# >  Filmer som er nominert til flere priser kan printes flere ganger\n"
   ]
  },
  {
   "cell_type": "code",
   "execution_count": 8,
   "metadata": {},
   "outputs": [],
   "source": [
    "# 3. Hvor mange nominasjoner har filmen \"Barbie\"\n"
   ]
  },
  {
   "cell_type": "code",
   "execution_count": 10,
   "metadata": {},
   "outputs": [],
   "source": [
    "# 4. Hvilken film har flest nominasjoner, hvor mange har den?\n"
   ]
  },
  {
   "cell_type": "code",
   "execution_count": 9,
   "metadata": {},
   "outputs": [],
   "source": [
    "# 5. Lag en utskrift som viser de ti filmene med flest nominasjoner og antall nominasjoner\n"
   ]
  }
 ],
 "metadata": {
  "kernelspec": {
   "display_name": "Python 3",
   "language": "python",
   "name": "python3"
  },
  "language_info": {
   "codemirror_mode": {
    "name": "ipython",
    "version": 3
   },
   "file_extension": ".py",
   "mimetype": "text/x-python",
   "name": "python",
   "nbconvert_exporter": "python",
   "pygments_lexer": "ipython3",
   "version": "3.12.0"
  }
 },
 "nbformat": 4,
 "nbformat_minor": 2
}
