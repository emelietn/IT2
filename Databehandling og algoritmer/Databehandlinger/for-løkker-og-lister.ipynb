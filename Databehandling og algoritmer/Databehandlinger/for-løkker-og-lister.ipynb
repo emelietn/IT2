{
 "cells": [
  {
   "cell_type": "code",
   "execution_count": 7,
   "metadata": {},
   "outputs": [
    {
     "name": "stdout",
     "output_type": "stream",
     "text": [
      "10\n",
      "9\n",
      "8\n",
      "7\n",
      "6\n",
      "5\n",
      "4\n",
      "3\n",
      "2\n",
      "1\n",
      "4\n",
      "6\n",
      "8\n",
      "10\n",
      "12\n",
      "14\n",
      "16\n",
      "18\n",
      "20\n",
      "22\n"
     ]
    }
   ],
   "source": [
    "#While-løkker\n",
    "# så lenge en betingelse er sann bruker vi while\n",
    "# \"så lenge\", hvis ikke vi vet hvor lenge vi skal holde på\n",
    "# pass på å ikke lage uendelige løkker, så ikke bruk betingelser som alltid er sant\n",
    "teller = 10\n",
    "while teller > 0:\n",
    "    print(teller)\n",
    "    teller -= 1\n",
    "\n",
    "\n",
    "# oppvarming\n",
    "    ##print alle partall fra 0 til 20  \n",
    "\n",
    "teller = 2\n",
    "\n",
    "while teller <= 20:\n",
    "    teller += 2\n",
    "    print(teller)\n",
    "\n",
    "\n"
   ]
  },
  {
   "cell_type": "code",
   "execution_count": 5,
   "metadata": {},
   "outputs": [
    {
     "name": "stdout",
     "output_type": "stream",
     "text": [
      "1\n",
      "2\n",
      "3\n",
      "4\n",
      "5\n",
      "6\n",
      "7\n",
      "8\n",
      "9\n",
      "10\n"
     ]
    }
   ],
   "source": [
    "# For- løkker\n",
    "# for løkker brukes for å gå gjennom en sekvens, en samling med tall. f.eks en liste med tall eller en ordbok med nøkkler\n",
    "# \n",
    "\n",
    "for tall in [1,2,3,4,5,6,7,8,9,10]:\n",
    "    print(tall)\n",
    "\n",
    "\n",
    "for bokstav in \"ja vi elsker\":\n",
    "    print(bokstav)"
   ]
  },
  {
   "cell_type": "code",
   "execution_count": 13,
   "metadata": {},
   "outputs": [
    {
     "name": "stdout",
     "output_type": "stream",
     "text": [
      "1\n",
      "2\n",
      "3\n",
      "4\n",
      "5\n",
      "6\n",
      "7\n",
      "8\n",
      "9\n",
      "10\n",
      "11\n",
      "1\n",
      "2\n",
      "3\n",
      "4\n",
      "5\n",
      "6\n",
      "7\n",
      "8\n",
      "9\n",
      "10\n",
      "0\n",
      "1\n",
      "2\n",
      "3\n",
      "4\n",
      "5\n",
      "6\n",
      "7\n"
     ]
    }
   ],
   "source": [
    "# Range\n",
    "# range(start, slutt_flr, steg) er en innebygd funksjon som gir oss en sekvens med tall,\n",
    "# somvi kan bruke i en for løkke\n",
    "\n",
    "for tall in [1,2,3,4,5,6,7,8,9,10,11]: # dette blir slitsomt i lengden! her kan vi heler bruke range\n",
    "    print(tall)\n",
    "\n",
    "for tall in range(1,11,1): # for hvert tall i sekvensen som starter med 1, slutter før 4 og øker med 1\n",
    "    print(tall)\n",
    "\n",
    "# ekspertips, hvis vi starter på 0 trenger vi ikke skrive start argument\n",
    "    # hvis vi skal øke med 1, trenger vi ikke skrive steg argument\n",
    "\n",
    "for tall in range(8): \n",
    "    print(tall)\n",
    "\n",
    "\n"
   ]
  },
  {
   "cell_type": "code",
   "execution_count": 15,
   "metadata": {},
   "outputs": [
    {
     "name": "stdout",
     "output_type": "stream",
     "text": [
      "10\n",
      "9\n",
      "8\n",
      "7\n",
      "6\n",
      "5\n",
      "4\n",
      "3\n",
      "2\n",
      "1\n",
      "0\n"
     ]
    }
   ],
   "source": [
    "for tall in range(10,-1,-1):\n",
    "    print(tall)"
   ]
  },
  {
   "cell_type": "code",
   "execution_count": 16,
   "metadata": {},
   "outputs": [
    {
     "name": "stdout",
     "output_type": "stream",
     "text": [
      "it1: 6\n",
      "it2: 6\n",
      "1t: 4\n",
      "r1: 5\n",
      "r2: 4\n"
     ]
    }
   ],
   "source": [
    "fag = [\"it1\",\"it2\", \"1t\", \"r1\", \"r2\"]\n",
    "karakterer =[6,6,4,5,4]\n",
    "\n",
    "for tall in range(len(fag)):\n",
    "    print(f\"{fag[tall]}: {karakterer[tall]}\")\n"
   ]
  },
  {
   "cell_type": "code",
   "execution_count": 18,
   "metadata": {},
   "outputs": [
    {
     "name": "stdout",
     "output_type": "stream",
     "text": [
      "mattelærer\n",
      "navn David Ravi\n",
      "alder 43\n",
      "yrke mattelærer\n",
      "favorittaktivitet gaming\n",
      "favorittdrikk databrus\n",
      "123 favorittall\n"
     ]
    }
   ],
   "source": [
    "ravi = {\n",
    "    \"navn\": \"David Ravi\",\n",
    "    \"alder\": 43,\n",
    "    \"yrke\": \"mattelærer\",\n",
    "    \"favorittaktivitet\" : \"gaming\",\n",
    "    \"favorittdrikk\": \"databrus\",\n",
    "    123 : \"favorittall\" # vi kan også bruke andre type nøkkler i en ordbok\n",
    "    # nøkkel : verdi\n",
    "\n",
    "}\n",
    "\n",
    "print(ravi[\"yrke\"])\n",
    "# variablene som opprettes i en for- løkke som går gjennom en ordbok \n",
    "# vil etter ur ha verdiene til nølklene i ordboka \n",
    "for nøkkel in ravi: \n",
    "    print(nøkkel, ravi[nøkkel])\n",
    "\n",
    "# alternativt kan vi bruke .items() og to variabler for å gå gjennom \n",
    "for nøkkel, verdi in ravi.items():\n",
    "    print(nøkkel, verdi)"
   ]
  },
  {
   "cell_type": "code",
   "execution_count": 1,
   "metadata": {},
   "outputs": [
    {
     "name": "stdout",
     "output_type": "stream",
     "text": [
      "Emma Stone (34)\n"
     ]
    }
   ],
   "source": [
    "skuespillere = [\n",
    "    {\"navn\": \"Tom Hanks\", \"alder\": 66},\n",
    "    {\"navn\": \"Meryl Streep\", \"alder\": 73},\n",
    "    {\"navn\": \"Leonardo DiCaprio\", \"alder\": 48},\n",
    "    {\"navn\": \"Julia Roberts\", \"alder\": 55},\n",
    "    {\"navn\": \"Denzel Washington\", \"alder\": 67},\n",
    "    {\"navn\": \"Nicole Kidman\", \"alder\": 55},\n",
    "    {\"navn\": \"Brad Pitt\", \"alder\": 59},\n",
    "    {\"navn\": \"Charlize Theron\", \"alder\": 47},\n",
    "    {\"navn\": \"Johnny Depp\", \"alder\": 59},\n",
    "    {\"navn\": \"Emma Stone\", \"alder\": 34},\n",
    "]\n",
    "\n",
    "favoritt = skuespillere[9]\n",
    "\n",
    "# favoritt = skuespiller\n",
    "\n",
    "print(f\"{favoritt['navn']} ({favoritt['alder']})\")"
   ]
  },
  {
   "cell_type": "code",
   "execution_count": 4,
   "metadata": {},
   "outputs": [
    {
     "name": "stdout",
     "output_type": "stream",
     "text": [
      "Tom Hanks(66)\n",
      "Meryl Streep(73)\n",
      "Leonardo DiCaprio(48)\n",
      "Julia Roberts(55)\n",
      "Denzel Washington(67)\n",
      "Nicole Kidman(55)\n",
      "Brad Pitt(59)\n",
      "Charlize Theron(47)\n",
      "Johnny Depp(59)\n",
      "Emma Stone(34)\n"
     ]
    }
   ],
   "source": [
    "for s in skuespillere:\n",
    "    print(f\"{s['navn']}({s['alder']})\")"
   ]
  },
  {
   "cell_type": "code",
   "execution_count": 5,
   "metadata": {},
   "outputs": [
    {
     "name": "stdout",
     "output_type": "stream",
     "text": [
      "{'navn': 'Meryl Streep', 'alder': 73}\n",
      "56.3\n"
     ]
    }
   ],
   "source": [
    "eldst = skuespillere[0]\n",
    "totalalder = 0\n",
    "for skuespiller in skuespillere:\n",
    "    totalalder += skuespiller[\"alder\"]\n",
    "    if skuespiller [\"alder\"] > eldst[\"alder\"]:\n",
    "        eldst = skuespiller\n",
    "\n",
    "    \n",
    "print(eldst)\n",
    "snitt = totalalder / len(skuespillere)\n",
    "print(snitt)\n",
    "\n",
    "\n"
   ]
  },
  {
   "cell_type": "code",
   "execution_count": null,
   "metadata": {},
   "outputs": [],
   "source": []
  }
 ],
 "metadata": {
  "kernelspec": {
   "display_name": "Python 3",
   "language": "python",
   "name": "python3"
  },
  "language_info": {
   "codemirror_mode": {
    "name": "ipython",
    "version": 3
   },
   "file_extension": ".py",
   "mimetype": "text/x-python",
   "name": "python",
   "nbconvert_exporter": "python",
   "pygments_lexer": "ipython3",
   "version": "3.10.0"
  }
 },
 "nbformat": 4,
 "nbformat_minor": 2
}
