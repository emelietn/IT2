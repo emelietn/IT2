{
 "cells": [
  {
   "cell_type": "markdown",
   "metadata": {},
   "source": [
    "# oppgave 2.9\n",
    "\n",
    "1. Kopier listen med vinnere av gullballen 👇👇 inn i en python-fil og print ordboken til den første spilleren.\n",
    "2. Lag en for-løkke som printer navn og nasjonalitet på hver spiller.\n",
    "3. Utvid koden slik at for-løkken også printer antall gullballer spillerne har vunnet."
   ]
  },
  {
   "cell_type": "code",
   "execution_count": 6,
   "metadata": {},
   "outputs": [],
   "source": [
    "# oppgave 1\n",
    "\n",
    "\n",
    "import json\n",
    "fil = open(\"gullballer.json\", encoding=\"utf-8\")\n",
    "gullballer = json.load(fil)\n",
    "fil.close()\n"
   ]
  },
  {
   "cell_type": "code",
   "execution_count": 8,
   "metadata": {},
   "outputs": [
    {
     "name": "stdout",
     "output_type": "stream",
     "text": [
      "Navn: Luís Figo, Nasjonalitet: Portugal\n",
      "Navn: Michael Owen, Nasjonalitet: England\n",
      "Navn: Ronaldo, Nasjonalitet: Brasil\n",
      "Navn: Pavel Nedvěd, Nasjonalitet: Tsjekkia\n",
      "Navn: Andriy Shevchenko, Nasjonalitet: Ukraina\n",
      "Navn: Ronaldinho, Nasjonalitet: Brasil\n",
      "Navn: Fabio Cannavaro, Nasjonalitet: Italia\n",
      "Navn: Kaká, Nasjonalitet: Brasil\n",
      "Navn: Cristiano Ronaldo, Nasjonalitet: Portugal\n",
      "Navn: Lionel Messi, Nasjonalitet: Argentina\n",
      "Navn: Luka Modric, Nasjonalitet: Kroatia\n",
      "Navn: Karim Benzema, Nasjonalitet: Frankrike\n"
     ]
    }
   ],
   "source": [
    "# oppgave 2 Lag en for-løkke som printer navn og nasjonalitet på hver spiller.\n",
    "\n",
    "\n",
    "for spiller in gullballer:\n",
    "    print(f\"Navn: {spiller['navn']}, Nasjonalitet: {spiller['nasjonalitet']}\")\n"
   ]
  },
  {
   "cell_type": "code",
   "execution_count": 11,
   "metadata": {},
   "outputs": [
    {
     "name": "stdout",
     "output_type": "stream",
     "text": [
      "Luís Figo : Portugal : 1\n",
      "Michael Owen : England : 1\n",
      "Ronaldo : Brasil : 1\n",
      "Pavel Nedvěd : Tsjekkia : 1\n",
      "Andriy Shevchenko : Ukraina : 1\n",
      "Ronaldinho : Brasil : 1\n",
      "Fabio Cannavaro : Italia : 1\n",
      "Kaká : Brasil : 1\n",
      "Cristiano Ronaldo : Portugal : 5\n",
      "Lionel Messi : Argentina : 8\n",
      "Luka Modric : Kroatia : 1\n",
      "Karim Benzema : Frankrike : 1\n"
     ]
    }
   ],
   "source": [
    "# 3. Utvid koden slik at for-løkken også printer antall gullballer spillerne har vunnet.\n",
    "\n",
    "anntall_gullballer = 0\n",
    "\n",
    "for spiller in gullballer:\n",
    "    print(f\"{spiller['navn']} : {spiller['nasjonalitet']} : {len(spiller['år'])}\")\n",
    "\n",
    "\n",
    "\n",
    "\n",
    "\n"
   ]
  },
  {
   "cell_type": "code",
   "execution_count": null,
   "metadata": {},
   "outputs": [],
   "source": []
  }
 ],
 "metadata": {
  "kernelspec": {
   "display_name": "Python 3",
   "language": "python",
   "name": "python3"
  },
  "language_info": {
   "codemirror_mode": {
    "name": "ipython",
    "version": 3
   },
   "file_extension": ".py",
   "mimetype": "text/x-python",
   "name": "python",
   "nbconvert_exporter": "python",
   "pygments_lexer": "ipython3",
   "version": "3.10.0"
  }
 },
 "nbformat": 4,
 "nbformat_minor": 2
}
