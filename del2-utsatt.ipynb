{
 "cells": [
  {
   "cell_type": "markdown",
   "metadata": {},
   "source": [
    "# Del 2 - Med hjelpemidler\n",
    "> Utsatt prøve"
   ]
  },
  {
   "cell_type": "markdown",
   "metadata": {},
   "source": [
    "## Oppgave 3"
   ]
  },
  {
   "cell_type": "code",
   "execution_count": 27,
   "metadata": {},
   "outputs": [],
   "source": [
    "humorprisen_2023 = [\n",
    "    {\n",
    "        \"pris\": \"Morsomste humorprogram\",\n",
    "        \"nominerte\": [\n",
    "            {\n",
    "                \"navn\": \"Manndag\",\n",
    "                \"produsent\": \"NRK\",\n",
    "                \"vinner\": True\n",
    "            },\n",
    "            {\n",
    "                \"navn\": \"Erlend og Steinar hjelper deg\",\n",
    "                \"produsent\": \"Discovery\",\n",
    "                \"vinner\": False\n",
    "            },\n",
    "            {\n",
    "                \"navn\": \"KARPE: Ferdig, men ikke kom og tørk\",\n",
    "                \"produsent\": \"NRK\",\n",
    "                \"vinner\": False\n",
    "            }\n",
    "        ]\n",
    "    },\n",
    "    {\n",
    "        \"pris\": \"Morsomste underholdningsprogram\",\n",
    "        \"nominerte\": [\n",
    "            {\n",
    "                \"navn\": \"Bordtenniskameratene\",\n",
    "                \"produsent\": \"VGTV\",\n",
    "                \"vinner\": True\n",
    "            },\n",
    "            {\n",
    "                \"navn\": \"Huskestue\",\n",
    "                \"produsent\": \"TV2\",\n",
    "                \"vinner\": False\n",
    "            },\n",
    "            {\n",
    "                \"navn\": \"Kamikaze\",\n",
    "                \"produsent\": \"Discovery\",\n",
    "                \"vinner\": False\n",
    "            }\n",
    "        ]\n",
    "    },\n",
    "    {\n",
    "        \"pris\": \"Morsomste humordrama\",\n",
    "        \"nominerte\": [\n",
    "            {\n",
    "                \"navn\": \"Føkkings Fladseth\",\n",
    "                \"produsent\": \"TV2\",\n",
    "                \"vinner\": True\n",
    "            },\n",
    "            {\n",
    "                \"navn\": \"Basic Bitch\",\n",
    "                \"produsent\": \"Discovery\",\n",
    "                \"vinner\": False\n",
    "            },\n",
    "            {\n",
    "                \"navn\": \"Hva skjedde med Solveig?\",\n",
    "                \"produsent\": \"NRK\",\n",
    "                \"vinner\": False\n",
    "            }\n",
    "        ]\n",
    "    },\n",
    "    {\n",
    "        \"pris\": \"Morsomste podcast\",\n",
    "        \"nominerte\": [\n",
    "            {\n",
    "                \"navn\": \"Backflip med Snorre Monssson\",\n",
    "                \"produsent\": \"Juicy Production\",\n",
    "                \"vinner\": True\n",
    "            },\n",
    "            {\n",
    "                \"navn\": \"Tusvik & Tønne\",\n",
    "                \"produsent\": \"PodMe\",\n",
    "                \"vinner\": False\n",
    "            },\n",
    "            {\n",
    "                \"navn\": \"Guttapassasjen\",\n",
    "                \"produsent\": \"NRK\",\n",
    "                \"vinner\": False\n",
    "            },\n",
    "            {\n",
    "                \"navn\": \"Med all respekt\",\n",
    "                \"produsent\": \"NRK\",\n",
    "                \"vinner\": False\n",
    "            }\n",
    "        ]\n",
    "    }\n",
    "]"
   ]
  },
  {
   "cell_type": "code",
   "execution_count": 33,
   "metadata": {},
   "outputs": [
    {
     "name": "stdout",
     "output_type": "stream",
     "text": [
      "Backflip med Snorre Monssson\n"
     ]
    }
   ],
   "source": [
    "# 1. Bruk listen med ordbøker og print navnet på Snorre Monssons podcast\n",
    "\n",
    "print(humorprisen_2023[3][\"nominerte\"][0][\"navn\"])\n",
    "\n",
    "\n",
    "\n",
    "        \n"
   ]
  },
  {
   "cell_type": "code",
   "execution_count": 32,
   "metadata": {},
   "outputs": [
    {
     "name": "stdout",
     "output_type": "stream",
     "text": [
      "Morsomste humorprogram\n",
      "Morsomste underholdningsprogram\n",
      "Morsomste humordrama\n",
      "Morsomste podcast\n"
     ]
    }
   ],
   "source": [
    "# 2. Print navnet på alle prisene\n",
    "\n",
    "for pris in humorprisen_2023:\n",
    "    print(pris[\"pris\"])\n"
   ]
  },
  {
   "cell_type": "code",
   "execution_count": 11,
   "metadata": {},
   "outputs": [
    {
     "name": "stdout",
     "output_type": "stream",
     "text": [
      "Manndag\n",
      "Erlend og Steinar hjelper deg\n",
      "KARPE: Ferdig, men ikke kom og tørk\n",
      "Bordtenniskameratene\n",
      "Huskestue\n",
      "Kamikaze\n",
      "Føkkings Fladseth\n",
      "Basic Bitch\n",
      "Hva skjedde med Solveig?\n",
      "Backflip med Snorre Monssson\n",
      "Tusvik & Tønne\n",
      "Guttapassasjen\n",
      "Med all respekt\n"
     ]
    }
   ],
   "source": [
    "# 3. Print navnet på alle de nominerte\n",
    "\n",
    "\n",
    "for pris in humorprisen_2023:\n",
    "    for nominert in pris[\"nominerte\"]:\n",
    "        print(nominert[\"navn\"])\n",
    "\n"
   ]
  },
  {
   "cell_type": "code",
   "execution_count": 13,
   "metadata": {},
   "outputs": [
    {
     "name": "stdout",
     "output_type": "stream",
     "text": [
      "Manndag\n",
      "Bordtenniskameratene\n",
      "Føkkings Fladseth\n",
      "Backflip med Snorre Monssson\n"
     ]
    }
   ],
   "source": [
    "# 4. Print alle vinnerne\n",
    "\n",
    "\n",
    "for pris in humorprisen_2023:\n",
    "    for nominert in pris[\"nominerte\"]:\n",
    "        if nominert[\"vinner\"]:\n",
    "         print(nominert[\"navn\"])\n",
    "\n",
    "\n"
   ]
  },
  {
   "cell_type": "code",
   "execution_count": 15,
   "metadata": {},
   "outputs": [
    {
     "name": "stdout",
     "output_type": "stream",
     "text": [
      "5\n"
     ]
    }
   ],
   "source": [
    "# 5. Hvor mange nominerte er produsert av NRK?\n",
    "\n",
    "nrk_nominerte  = 0\n",
    "\n",
    "for pris in humorprisen_2023:\n",
    "    for nominert in pris[\"nominerte\"]:\n",
    "        if nominert[\"produsent\"] == \"NRK\":\n",
    "            nrk_nominerte += 1\n",
    "\n",
    "\n",
    "print(nrk_nominerte)\n",
    "\n"
   ]
  },
  {
   "cell_type": "code",
   "execution_count": 29,
   "metadata": {},
   "outputs": [
    {
     "name": "stdout",
     "output_type": "stream",
     "text": [
      "{'NRK': 5, 'Discovery': 3, 'VGTV': 1, 'TV2': 2, 'Juicy Production': 1, 'PodMe': 1}\n"
     ]
    }
   ],
   "source": [
    "# 6. Lag en ordbok som teller hvor mange nominerte de forskjellige produsentene har bruk len funksjonen uten å importere noe\n",
    "\n",
    "\n",
    "produsent_teller = {}\n",
    "\n",
    "for pris in humorprisen_2023:\n",
    "    for nominert in pris[\"nominerte\"]:\n",
    "        produsent = nominert[\"produsent\"]\n",
    "        nominerte = nominert[\"navn\"]\n",
    "        if produsent not in produsent_teller:\n",
    "            produsent_teller[nominert[\"produsent\"]] = 1\n",
    "        else: \n",
    "            produsent_teller[nominert[\"produsent\"]] += 1\n",
    "\n",
    "print(produsent_teller)\n",
    "\n"
   ]
  },
  {
   "cell_type": "code",
   "execution_count": 30,
   "metadata": {},
   "outputs": [
    {
     "data": {
      "image/png": "[encoded data removed]",
      "text/plain": [
       "<Figure size 640x480 with 1 Axes>"
      ]
     },
     "metadata": {},
     "output_type": "display_data"
    }
   ],
   "source": [
    "# 7. Tegn et stolpediagram med antall nominerte gruppert etter produsent \n",
    "\n",
    "import matplotlib.pyplot as plt\n",
    "\n",
    "\n",
    "\n",
    "produsent = list(produsent_teller.keys())\n",
    "antall_nominerte = list(produsent_teller.values())\n",
    "\n",
    "\n",
    "plt.bar(produsent, antall_nominerte)\n",
    "plt.xlabel('Produsent')\n",
    "plt.ylabel('Antall nominerte')\n",
    "plt.title('Antall nominerte per produsent')\n",
    "plt.show()\n"
   ]
  }
 ],
 "metadata": {
  "kernelspec": {
   "display_name": "Python 3",
   "language": "python",
   "name": "python3"
  },
  "language_info": {
   "codemirror_mode": {
    "name": "ipython",
    "version": 3
   },
   "file_extension": ".py",
   "mimetype": "text/x-python",
   "name": "python",
   "nbconvert_exporter": "python",
   "pygments_lexer": "ipython3",
   "version": "3.10.0"
  }
 },
 "nbformat": 4,
 "nbformat_minor": 2
}
