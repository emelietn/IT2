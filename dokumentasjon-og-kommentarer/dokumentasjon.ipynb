{
 "cells": [
  {
   "cell_type": "code",
   "execution_count": 1,
   "metadata": {},
   "outputs": [
    {
     "name": "stdout",
     "output_type": "stream",
     "text": [
      "Hallo verden!\n"
     ]
    }
   ],
   "source": [
    "print(\"Hallo verden!\")\n"
   ]
  },
  {
   "cell_type": "markdown",
   "metadata": {},
   "source": [
    "# dokumentasjon og komentarer\n",
    "\n",
    "## Plan\n",
    "\n",
    "1. Hvorfor kommentere/dokumentere\n",
    "2. kommentarer vs. dokumentasjon\n",
    "3. komentarer \n",
    "    1. Hvordan?\n",
    "    2. Trenger vi egentlig komentarer?\n",
    "4. Type hinting\n",
    "5. Docstrings\n",
    "\n",
    "## Oppgaver\n",
    "\n",
    "3.17 - 3.20 på it2.thorcc.no\n",
    "\n"
   ]
  },
  {
   "cell_type": "markdown",
   "metadata": {},
   "source": [
    "## Hvorfor komentere/ dokumentere kode?\n",
    "\n",
    "Code is more often read then written\" - Guido von Rossum (skaperen av python)\n",
    "\n",
    "  "
   ]
  },
  {
   "cell_type": "markdown",
   "metadata": {},
   "source": [
    "## Komentarer"
   ]
  },
  {
   "cell_type": "code",
   "execution_count": null,
   "metadata": {},
   "outputs": [],
   "source": [
    "# Komentarer i python lages med # (hashtags)\n",
    "\"\"\"Dette er også en kommentar \"\"\"\n",
    "\n",
    "# i følge pythons stilguide (PEP 8) skal en komentar skal ikke være lengre en 72 tegn\n",
    "# hvis en kmt er lengre en 72 tegn legger vi på et linjeskift\n",
    "# det er vanlig å bruke hashtags selv om vi har lange kommentarer som går over flere lijer\n"
   ]
  },
  {
   "cell_type": "code",
   "execution_count": null,
   "metadata": {},
   "outputs": [],
   "source": [
    "def ta_på_regntøy(vær):\n",
    "    #sjekker om været er regn\n",
    "    if vær == \"regn\":\n",
    "        # Returnerer True hvis det er regn\n",
    "        return True\n",
    "    else: \n",
    "        # Returnerer False hvis det IKKE er regn\n",
    "        return False"
   ]
  },
  {
   "cell_type": "code",
   "execution_count": null,
   "metadata": {},
   "outputs": [],
   "source": [
    "# Oppgave 3.17\n",
    "\n",
    "\n",
    "# TODO svar på oppgave 2 her\n",
    "#  printer ut arelet av en trekant\n",
    " \n",
    "# 3. Legg på kommentarer slik at koden blir forståelig for andre\n",
    "\n",
    "Grunnlinje = float(\"Grunnlinje (cm): \") \n",
    "Høyde = float(\"Høyde (cm): \")\n",
    " \n",
    "areal = Grunnlinje*Høyde/2\n",
    "print(f\"Arealet er {areal} cm^2\")\n",
    " \n",
    "## ------\n",
    "# 4. Fjern alle kommentarer og endre koden slik at den blir enklere å forstå\n",
    "# 5. Se over koden og legg på eventuelle nødvendige kommentarer\n",
    " \n",
    "# TODO Lim inn koden på nytt her"
   ]
  },
  {
   "cell_type": "code",
   "execution_count": null,
   "metadata": {},
   "outputs": [],
   "source": [
    "# 2. Hva gjør koden?\n",
    "# TODO svar på oppgave 2 her\n",
    " \n",
    "# 3. Legg på kommentarer slik at koden blir forståelig for andre\n",
    "\n",
    "#  En liste med ordbøker der hver ordbok er en f1 person\n",
    "f1 = [\n",
    "    {\"navn\": \"Max Verstappen\", \"nasjonalitet\": \"nederlandsk\", \"team\": \"Red Bull Racing\", \"bilnummer\": 1},\n",
    "    {\"navn\": \"Sergio Perez\", \"nasjonalitet\": \"meksikansk\", \"team\": \"Red Bull Racing\", \"bilnummer\": 11},\n",
    "    {\"navn\": \"Lewis Hamilton\", \"nasjonalitet\": \"britisk\", \"team\": \"Mercedes\", \"bilnummer\": 44},\n",
    "    {\"navn\": \"George Russell\", \"nasjonalitet\": \"britisk\", \"team\": \"Mercedes\", \"bilnummer\": 63},\n",
    "    {\"navn\": \"Charles Leclerc\", \"nasjonalitet\": \"monegaskisk\", \"team\": \"Ferrari\", \"bilnummer\": 16},\n",
    "    {\"navn\": \"Kevin Magnussen\", \"nasjonalitet\": \"dansk\", \"team\": \"Haas F1 Team\", \"bilnummer\": 20},\n",
    "    {\"navn\": \"Nico Hulkenberg\", \"nasjonalitet\": \"tysk\", \"team\": \"Haas F1 Team\", \"bilnummer\": 27}\n",
    "]\n",
    " \n",
    " #oppretter en tom liste emd antall\n",
    "\n",
    "antall = {}\n",
    "# for hver sjofør i listen\n",
    "for s in f1:    \n",
    "    # hvis nasjonaliteten ikke finnes i listen antall     \n",
    "  if s['nasjonalitet'] not in antall:\n",
    "    #legg til nasjonaliteten i lister med antall nasjonaliteter\n",
    "    antall[s['nasjonalitet']] = 1\n",
    "  else:\n",
    "    #hvis anntall listen med anntall allerede inneholder en nasjonalitet, skal antallet på nasjonaliteten øke med en \n",
    "    antall[s['nasjonalitet']] += 1\n",
    " \n",
    "print(antall[\"britisk\"])\n",
    "print(antall[\"dansk\"])\n",
    " \n",
    "## ------\n",
    "# 4. Fjern alle kommentarer og endre koden slik at den blir enklere å forstå\n",
    "# 5. Se over koden, og legg på eventuelle kommentarer\n",
    " \n",
    "\n",
    "antall_nasjonaliteter = {}\n",
    "\n",
    "for sjofør in f1:      \n",
    "  if sjofør['nasjonalitet'] not in antall_nasjonaliteter:\n",
    "    antall_nasjonaliteter[sjofør['nasjonalitet']] = 1\n",
    "  else: \n",
    "    antall[sjofør['nasjonalitet']] += 1\n",
    " \n",
    "print(antall[\"britisk\"])\n",
    "print(antall[\"dansk\"])\n",
    " "
   ]
  },
  {
   "cell_type": "markdown",
   "metadata": {},
   "source": [
    "## Typehinting og docstrings \n",
    "\n",
    "Type hinting er spesielle komentarer som brukes for å dokumentere kode.\n",
    "Dokumentasjon av kode lages for å hjelpe utviklere å bruke koden.\n",
    "For eksempel dokumenttasjonen som er laget fir å forklare random.ranting - funksjonen er\n",
    "laget for å forklare utviklere hvordan funkjsonen brukes\n",
    "\n",
    "\n",
    "\"vanlige\" komentarer er laget for de som skal endre eller forbere kode\n",
    "dokumentasjon lages for programerere som skal bruke kode."
   ]
  },
  {
   "cell_type": "code",
   "execution_count": null,
   "metadata": {},
   "outputs": [],
   "source": [
    "# Type hinting\n",
    "\n",
    "def areal_trekant(grunnlinje, høyde):\n",
    "    return grunnlinje * høyde / 2\n",
    "\n",
    "areal_trekant(10,5)\n",
    "areal_trekant()"
   ]
  },
  {
   "cell_type": "code",
   "execution_count": null,
   "metadata": {},
   "outputs": [],
   "source": [
    "# docstring\n",
    "\n",
    "def areal_trekant(grunnlinje: float, høyde: float)->:\n",
    "\"\"\"\n",
    "En funksjon som regner ut areal av trekanter\n",
    "\n",
    "parametere\n",
    "\n",
    "grunlinje(float): grunnlinja i trekanteb\n",
    "høyde(float): høyden i trekanten\n",
    "\"\"\"\n",
    "return grunnlinje * høyde / 2\n",
    "\n",
    "areal_trekant(10,5)\n",
    "areal_trekant()\n",
    "\n"
   ]
  },
  {
   "cell_type": "code",
   "execution_count": null,
   "metadata": {},
   "outputs": [],
   "source": [
    "# oppgave 3.19\n",
    "\n"
   ]
  }
 ],
 "metadata": {
  "kernelspec": {
   "display_name": "Python 3",
   "language": "python",
   "name": "python3"
  },
  "language_info": {
   "codemirror_mode": {
    "name": "ipython",
    "version": 3
   },
   "file_extension": ".py",
   "mimetype": "text/x-python",
   "name": "python",
   "nbconvert_exporter": "python",
   "pygments_lexer": "ipython3",
   "version": "3.10.0"
  }
 },
 "nbformat": 4,
 "nbformat_minor": 2
}
